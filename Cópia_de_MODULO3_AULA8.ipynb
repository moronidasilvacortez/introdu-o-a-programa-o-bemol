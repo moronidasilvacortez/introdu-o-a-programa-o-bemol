{
  "nbformat": 4,
  "nbformat_minor": 0,
  "metadata": {
    "colab": {
      "name": "Cópia de MODULO3_AULA8.ipynb",
      "provenance": [],
      "collapsed_sections": [],
      "include_colab_link": true
    },
    "kernelspec": {
      "name": "python3",
      "display_name": "Python 3"
    },
    "language_info": {
      "name": "python"
    }
  },
  "cells": [
    {
      "cell_type": "markdown",
      "metadata": {
        "id": "view-in-github",
        "colab_type": "text"
      },
      "source": [
        "<a href=\"https://colab.research.google.com/github/moronii/introdu-o-a-programa-o-bemol/blob/main/C%C3%B3pia_de_MODULO3_AULA8.ipynb\" target=\"_parent\"><img src=\"https://colab.research.google.com/assets/colab-badge.svg\" alt=\"Open In Colab\"/></a>"
      ]
    },
    {
      "cell_type": "markdown",
      "metadata": {
        "id": "rZ6n4t-PMnbZ"
      },
      "source": [
        "# Aqui vamos praticar o uso de comandos de decisão na linguagem de programação Python."
      ]
    },
    {
      "cell_type": "markdown",
      "metadata": {
        "id": "YPA8wHgENNdp"
      },
      "source": [
        "## Primeiro vamos ver o uso do comando `SE`.\n",
        "## Na linguagem Python, usamos o comando `if <CONDICAO TESTADA>:`.\n",
        "\n",
        "### Exercício: Escreva um algoritmo que leia dois números, e imprima a soma dos números que forem múltiplos de 3 ou múltiplos de 5."
      ]
    },
    {
      "cell_type": "code",
      "metadata": {
        "id": "EkTvAZlhNdPE",
        "colab": {
          "base_uri": "https://localhost:8080/"
        },
        "outputId": "3786161f-88e2-4224-8b14-ec35ed5bb7d8"
      },
      "source": [
        "n1 = int(input(\"digite um numero que vai ser somado\"))\n",
        "n2 = int(input(\"digite outro numero que vai ser somado\"))\n",
        "\n",
        "\n",
        "soma = 0\n",
        "\n",
        "if ((n1 % 3) == 0)  or ((n1 % 5) == 0):\n",
        "  soma = soma + n1\n",
        "if ((n2 % 3) == 0) or ((n2 % 5) == 0):\n",
        "\n",
        "  soma = soma + n2\n",
        "\n",
        "  print(\"a soma e \", soma )\n"
      ],
      "execution_count": null,
      "outputs": [
        {
          "output_type": "stream",
          "text": [
            "digite um numero que vai ser somado10\n",
            "digite outro numero que vai ser somado12\n",
            "a soma e  22\n"
          ],
          "name": "stdout"
        }
      ]
    },
    {
      "cell_type": "code",
      "metadata": {
        "id": "ixplwPws-Adr"
      },
      "source": [
        ""
      ],
      "execution_count": null,
      "outputs": []
    },
    {
      "cell_type": "markdown",
      "metadata": {
        "id": "GM0B8SztOsns"
      },
      "source": [
        "## Incrementamos o comando `SE` com o comando `SENÃO`, que vai executar um bloco quando uma condição for falsa.\n",
        "## Na linguagem Python, junto do comando `if <CONDICAO TESTADA>:` temos o comando `ELSE:`.\n",
        "\n",
        "### Exercício: Escreva um algoritmo que leia os três lados de um triângulo e imprima que tipo de triângulo é este.\n",
        "\n",
        "* Triângulo equilátero: todos os lados são iguais\n",
        "* Triângulo isósceles: dois lados são iguais\n",
        "* Triângulo escaleno: todos os lados são diferentes"
      ]
    },
    {
      "cell_type": "code",
      "metadata": {
        "colab": {
          "base_uri": "https://localhost:8080/"
        },
        "id": "KEsKogcXRRt2",
        "outputId": "0d410692-1dc9-4a83-8dd3-1dc544b0cb50"
      },
      "source": [
        "print(\"digite os tres lados do triangulo\")\n",
        "\n",
        "ladoA = int(input())\n",
        "ladoB = int(input())\n",
        "ladoC = int(input())\n",
        "\n",
        "\n",
        "\n",
        "if(ladoA == ladoB) and (ladoB == ladoC):\n",
        "  print(\"triangulo equilatero\")\n",
        "else:\n",
        "   if(ladoA == ladoB)\n",
        "  print(\"triangulo escaleno\")  \n"
      ],
      "execution_count": null,
      "outputs": [
        {
          "output_type": "stream",
          "text": [
            "digite os tres lados do triangulo\n",
            "3\n",
            "4\n",
            "5\n",
            "triangulo escaleno\n"
          ],
          "name": "stdout"
        }
      ]
    },
    {
      "cell_type": "code",
      "metadata": {
        "id": "NkfonHWpTDgh"
      },
      "source": [
        ""
      ],
      "execution_count": null,
      "outputs": []
    },
    {
      "cell_type": "markdown",
      "metadata": {
        "id": "2VrB2O1cYnU9"
      },
      "source": [
        "## Definimos outro comando de decisão, que foi o comando `ESCOLHA`, que vai fazer a escolha dentre vários casos descritos.\n",
        "## Infelizmente, no Python não temos um comando que faça o trabalho do comando `ESCOLHA`.\n",
        "![homem-aranha-chorando](https://acegif.com/wp-content/gif/crying-66.gif)\n",
        "## Dessa forma, em determinados problemas vamos precisar fazer a mesma verificação para todos os casos.\n",
        "## Mas para facilitar nossa vida na organização dos algoritmos, temos um comando que organiza as verificações em um mesmo nível de indentação, que é o comando `elif`, a junção do comando `else` com o comando `if`. Perdemos, mas não tanto.\n",
        "\n",
        "### Exercício: Elabore um algoritmo que leia o valor de dois números inteiros e a operação aritmética desejada; calcule, então, a resposta adequada. Utilize os símbolos da tabela a seguir para ler qual a operação aritmética escolhida.\n",
        "\n",
        "Símbolo      |      Operação\n",
        "-------------|-------------\n",
        "    +        |  Adição\n",
        "    -        |  Subtração\n",
        "    *        |  Multiplicação\n",
        "    /        |  Divisão"
      ]
    },
    {
      "cell_type": "code",
      "metadata": {
        "id": "2barGjjoTH00",
        "colab": {
          "base_uri": "https://localhost:8080/"
        },
        "outputId": "5dbd2d3d-fc95-417f-a331-eb801198bfc3"
      },
      "source": [
        "print(\"digite dois numeros\")\n",
        "n1 = int(input())\n",
        "n2 = int(input())\n",
        "operacao = input(\"digite a operacao que deseja realizar:\")\n",
        "\n",
        "if operacao == \"+\":\n",
        "  soma = n1 + n2\n",
        "  print(soma)\n",
        "\n",
        "elif operacao == \"-\":\n",
        "    subtracao = n1 - n2\n",
        "    print(subtracao)\n",
        "\n",
        "elif operacao == \"*\":\n",
        "     multiplicacao = n1 * n2\n",
        "     print(multiplicacao)\n",
        "\n",
        "elif operacao == \"/\":\n",
        "       divisao == n1 / n2\n",
        "       print(divisao)\n",
        "\n",
        "\n"
      ],
      "execution_count": null,
      "outputs": [
        {
          "output_type": "stream",
          "text": [
            "digite dois numeros\n",
            "3\n",
            "8\n",
            "digite a operacao que deseja realizar:*\n",
            "24\n"
          ],
          "name": "stdout"
        }
      ]
    },
    {
      "cell_type": "code",
      "metadata": {
        "id": "ha4m5Gs7fo45"
      },
      "source": [
        ""
      ],
      "execution_count": null,
      "outputs": []
    },
    {
      "cell_type": "markdown",
      "metadata": {
        "id": "dQdVGBLdht1_"
      },
      "source": [
        "# Exercícios de fixação"
      ]
    },
    {
      "cell_type": "markdown",
      "metadata": {
        "id": "0C44ynQ6yvrV"
      },
      "source": [
        "## A galera do Detran entrou em contato com você para que seja desenvolvido um sistema que faça o cálculo das multas por excesso de velocidade dos motoristas. Para isso, tem as seguintes regras de valor de multa:\n",
        "* Foi excedido até 10 Km da velocidade permitida na via: R\\$ 50 de multa\n",
        "* Foi excedido até 30 Km da velocidade permitida na via: R\\$ 100 de multa\n",
        "* Foi excedido mais de 30 Km da velocidade permitida na via: R\\$ 200 de multa\n",
        "\n",
        "## Escreva um algoritmo que receba como entrada a velocidade máxima da via e a velocidade medida de um veículo, e retorne o valor da multa a ser paga."
      ]
    },
    {
      "cell_type": "code",
      "metadata": {
        "id": "3_wvx8Wph3cE"
      },
      "source": [
        ""
      ],
      "execution_count": null,
      "outputs": []
    },
    {
      "cell_type": "markdown",
      "metadata": {
        "id": "b8rsiOLjmzCi"
      },
      "source": [
        "## Reescreva os algoritmos das listas anteriores em Python."
      ]
    },
    {
      "cell_type": "code",
      "metadata": {
        "id": "0fuibAYL0MRS"
      },
      "source": [
        ""
      ],
      "execution_count": null,
      "outputs": []
    }
  ]
}